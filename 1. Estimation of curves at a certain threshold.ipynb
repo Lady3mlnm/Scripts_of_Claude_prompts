{
 "cells": [
  {
   "cell_type": "markdown",
   "id": "ce9f7c16-de7c-4b6a-8b0b-436e4bf66ff8",
   "metadata": {},
   "source": [
    "This script sends several identical responces to the Claude server in the loop with asking to return Python dictionary. Information from dictionaries is collected in dataFrame and is saved to disk."
   ]
  },
  {
   "cell_type": "code",
   "execution_count": 1,
   "id": "4a529379-5d4f-4461-b950-88dfdb10ffff",
   "metadata": {
    "editable": true,
    "slideshow": {
     "slide_type": ""
    },
    "tags": []
   },
   "outputs": [],
   "source": [
    "import anthropic\n",
    "import base64\n",
    "import json\n",
    "import pandas as pd"
   ]
  },
  {
   "cell_type": "code",
   "execution_count": 2,
   "id": "1b29130a-6287-437f-a223-bcfc4fa9d317",
   "metadata": {},
   "outputs": [],
   "source": [
    "# pip install anthropic"
   ]
  },
  {
   "cell_type": "code",
   "execution_count": 3,
   "id": "aeb6a77c-b90b-42b9-8928-d85f96a4413e",
   "metadata": {},
   "outputs": [],
   "source": [
    "# get api_key from file (it is saved in format \"api_key: <your_api_key> #comment\")\n",
    "with open('api_key.txt') as fh:\n",
    "    api_key = fh.readline() \\\n",
    "                     .split(':')[1].split()[0]\n",
    "\n",
    "\n",
    "client = anthropic.Anthropic(api_key = api_key)\n",
    "\n",
    "# api_key"
   ]
  },
  {
   "cell_type": "code",
   "execution_count": 4,
   "id": "a4cc115c-805b-49c0-8840-cc26fbc7a9b7",
   "metadata": {},
   "outputs": [],
   "source": [
    "# read the image file from disk and encode it to base64 string\n",
    "def upload_image_from_disk(path_to_image):\n",
    "    \n",
    "    with open(path_to_image, \"rb\") as image_file:\n",
    "        encoded_image = base64.b64encode(image_file.read()).decode('utf-8')\n",
    "\n",
    "    return encoded_image\n",
    "\n",
    "\n",
    "path_to_image = 'input\\\\Life expectancy in mice.png'\n",
    "encoded_image = upload_image_from_disk(path_to_image)\n",
    "# encoded_image[-100:]"
   ]
  },
  {
   "cell_type": "markdown",
   "id": "3a642831-5f2c-4cef-a3fe-98c7bdfcf188",
   "metadata": {
    "scrolled": true
   },
   "source": [
    "<br>\n",
    "<br>"
   ]
  },
  {
   "cell_type": "code",
   "execution_count": 17,
   "id": "817adba6-a1c3-4f7c-b40e-9340a5a2e851",
   "metadata": {
    "editable": true,
    "slideshow": {
     "slide_type": ""
    },
    "tags": []
   },
   "outputs": [
    {
     "name": "stdout",
     "output_type": "stream",
     "text": [
      "1. {\"TRE-OSK\": 155.7142857142857, \"Control-Dox\": 140.7142857142857, \"Jax historical\": 145.7142857142857}\n",
      "2. {\"TRE-OSK\": 155.7142857142857, \"Control-Dox\": 140.7142857142857, \"Jax historical\": 145.7142857142857}\n",
      "3. {\"TRE-OSK\": 155.7142857142857, \"Control-Dox\": 140.7142857142857, \"Jax historical\": 145.7142857142857}\n",
      "4. {\"TRE-OSK\": 155.7142857142857, \"Control-Dox\": 140.7142857142857, \"Jax historical\": 145.7142857142857}\n"
     ]
    },
    {
     "data": {
      "text/html": [
       "<div>\n",
       "<style scoped>\n",
       "    .dataframe tbody tr th:only-of-type {\n",
       "        vertical-align: middle;\n",
       "    }\n",
       "\n",
       "    .dataframe tbody tr th {\n",
       "        vertical-align: top;\n",
       "    }\n",
       "\n",
       "    .dataframe thead th {\n",
       "        text-align: right;\n",
       "    }\n",
       "</style>\n",
       "<table border=\"1\" class=\"dataframe\">\n",
       "  <thead>\n",
       "    <tr style=\"text-align: right;\">\n",
       "      <th></th>\n",
       "      <th>TRE-OSK</th>\n",
       "      <th>Control-Dox</th>\n",
       "      <th>Jax historical</th>\n",
       "    </tr>\n",
       "  </thead>\n",
       "  <tbody>\n",
       "    <tr>\n",
       "      <th>1</th>\n",
       "      <td>155.714286</td>\n",
       "      <td>140.714286</td>\n",
       "      <td>145.714286</td>\n",
       "    </tr>\n",
       "    <tr>\n",
       "      <th>2</th>\n",
       "      <td>155.714286</td>\n",
       "      <td>140.714286</td>\n",
       "      <td>145.714286</td>\n",
       "    </tr>\n",
       "    <tr>\n",
       "      <th>3</th>\n",
       "      <td>155.714286</td>\n",
       "      <td>140.714286</td>\n",
       "      <td>145.714286</td>\n",
       "    </tr>\n",
       "    <tr>\n",
       "      <th>4</th>\n",
       "      <td>155.714286</td>\n",
       "      <td>140.714286</td>\n",
       "      <td>145.714286</td>\n",
       "    </tr>\n",
       "  </tbody>\n",
       "</table>\n",
       "</div>"
      ],
      "text/plain": [
       "      TRE-OSK  Control-Dox  Jax historical\n",
       "1  155.714286   140.714286      145.714286\n",
       "2  155.714286   140.714286      145.714286\n",
       "3  155.714286   140.714286      145.714286\n",
       "4  155.714286   140.714286      145.714286"
      ]
     },
     "execution_count": 17,
     "metadata": {},
     "output_type": "execute_result"
    }
   ],
   "source": [
    "# The function sends a request to the Claude server and get a response\n",
    "def prompt_Claude(client,\n",
    "                  system: str,\n",
    "                  prompt: str,\n",
    "                  encoded_image: \"base64 string\"):\n",
    "\n",
    "    response = client.messages.create(\n",
    "        model=\"claude-3-5-sonnet-20240620\",\n",
    "        max_tokens=1000,\n",
    "        temperature=0,\n",
    "        system=system,\n",
    "        messages=[\n",
    "            {\n",
    "                \"role\": \"user\",\n",
    "                \"content\": [\n",
    "                    {\n",
    "                        \"type\": \"text\",\n",
    "                        \"text\": prompt\n",
    "                    },\n",
    "                    {\n",
    "                        \"type\": \"image\",\n",
    "                        \"source\": {\n",
    "                            \"type\": \"base64\",\n",
    "                            \"media_type\": \"image/png\",\n",
    "                            \"data\": encoded_image\n",
    "                        }\n",
    "                    }\n",
    "                ]\n",
    "            }\n",
    "        ]\n",
    "    )\n",
    "\n",
    "    return response\n",
    "\n",
    "\n",
    "# system text and prompt text to send\n",
    "system = \"You are an expert in Kaplan-Meier curves.\"\n",
    "prompt = \"That is a chart of life expectancy for 3 groups of mice. For each group, what is the age at which survival reaches 15%? \" + \\\n",
    "          \"Your answer must be only unrounded values in the form of a Python dictionary.\"\n",
    "\n",
    "\n",
    "# send request to Claude server several times and collect results in datFrame\n",
    "df = pd.DataFrame()\n",
    "\n",
    "number_tests = 4\n",
    "for count in range(1, number_tests+1):\n",
    "    print(f\"{count}. \", end='')  # debugging: be sure that the iteration began\n",
    "    \n",
    "    response = prompt_Claude(client=client, system=system, prompt=prompt, encoded_image=encoded_image)\n",
    "    response_text = response.content[0].text\n",
    "    print(response_text)  # debugging: look at response\n",
    "\n",
    "    # convert text-response to dictionary object\n",
    "    dd = json.loads(response_text.replace('\\'', '\"'))\n",
    "\n",
    "    # convert dictionary to dataFrame and combine with earlier responses\n",
    "    df_current = pd.DataFrame(data=dd, index=[count])\n",
    "    df = pd.concat([df, df_current], axis='index')\n",
    "\n",
    "\n",
    "# save result to dist in the form of CSV-spreadsheet\n",
    "df.to_csv('output\\\\result of experiment.csv')\n",
    "\n",
    "df"
   ]
  },
  {
   "cell_type": "code",
   "execution_count": null,
   "id": "11fe1301-d993-4fa8-ba47-9e0b895817b2",
   "metadata": {
    "editable": true,
    "slideshow": {
     "slide_type": ""
    },
    "tags": []
   },
   "outputs": [],
   "source": []
  }
 ],
 "metadata": {
  "kernelspec": {
   "display_name": "Python 3 (ipykernel)",
   "language": "python",
   "name": "python3"
  },
  "language_info": {
   "codemirror_mode": {
    "name": "ipython",
    "version": 3
   },
   "file_extension": ".py",
   "mimetype": "text/x-python",
   "name": "python",
   "nbconvert_exporter": "python",
   "pygments_lexer": "ipython3",
   "version": "3.12.4"
  }
 },
 "nbformat": 4,
 "nbformat_minor": 5
}
